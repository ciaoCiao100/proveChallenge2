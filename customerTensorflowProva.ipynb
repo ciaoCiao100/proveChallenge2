{
  "nbformat": 4,
  "nbformat_minor": 0,
  "metadata": {
    "colab": {
      "name": "customerTensorflowProva.ipynb",
      "provenance": [],
      "mount_file_id": "1MOl10dr-xObOTQROUcS5k60bHbc-QWX7",
      "authorship_tag": "ABX9TyN0C3o+smMgmEFiJWKBzBqn",
      "include_colab_link": true
    },
    "kernelspec": {
      "name": "python3",
      "display_name": "Python 3"
    }
  },
  "cells": [
    {
      "cell_type": "markdown",
      "metadata": {
        "id": "view-in-github",
        "colab_type": "text"
      },
      "source": [
        "<a href=\"https://colab.research.google.com/github/ciaoCiao100/proveChallenge2/blob/master/customerTensorflowProva.ipynb\" target=\"_parent\"><img src=\"https://colab.research.google.com/assets/colab-badge.svg\" alt=\"Open In Colab\"/></a>"
      ]
    },
    {
      "cell_type": "markdown",
      "metadata": {
        "id": "i4Gn00mYvuTh",
        "colab_type": "text"
      },
      "source": [
        "vengono importate le librerie , scaricato il dataset e impostata la target label"
      ]
    },
    {
      "cell_type": "code",
      "metadata": {
        "id": "-Qz3V6V1tYwE",
        "colab_type": "code",
        "colab": {
          "base_uri": "https://localhost:8080/",
          "height": 299
        },
        "outputId": "2810fcde-5944-49fa-adc2-42101e8f3b4a"
      },
      "source": [
        "import numpy as np\n",
        "import pandas as pd\n",
        "import tensorflow as tf\n",
        "from tensorflow import feature_column\n",
        "from tensorflow.keras import layers\n",
        "from sklearn.model_selection import train_test_split\n",
        "\n",
        "# operazione che fa in modo che i numeri siano più leggibili\n",
        "np.set_printoptions(precision=3, suppress=True)\n",
        "\n",
        "data_path =\"/content/drive/My Drive/WA_Fn-UseC_-Telco-Customer-Churn.train.csv\"\n",
        "df = pd.read_csv(data_path)\n",
        "target_label =\"Churn\"\n",
        "df.head()\n"
      ],
      "execution_count": 15,
      "outputs": [
        {
          "output_type": "execute_result",
          "data": {
            "text/html": [
              "<div>\n",
              "<style scoped>\n",
              "    .dataframe tbody tr th:only-of-type {\n",
              "        vertical-align: middle;\n",
              "    }\n",
              "\n",
              "    .dataframe tbody tr th {\n",
              "        vertical-align: top;\n",
              "    }\n",
              "\n",
              "    .dataframe thead th {\n",
              "        text-align: right;\n",
              "    }\n",
              "</style>\n",
              "<table border=\"1\" class=\"dataframe\">\n",
              "  <thead>\n",
              "    <tr style=\"text-align: right;\">\n",
              "      <th></th>\n",
              "      <th>Churn</th>\n",
              "      <th>customerID</th>\n",
              "      <th>gender</th>\n",
              "      <th>SeniorCitizen</th>\n",
              "      <th>Partner</th>\n",
              "      <th>Dependents</th>\n",
              "      <th>tenure</th>\n",
              "      <th>PhoneService</th>\n",
              "      <th>MultipleLines</th>\n",
              "      <th>InternetService</th>\n",
              "      <th>OnlineSecurity</th>\n",
              "      <th>OnlineBackup</th>\n",
              "      <th>DeviceProtection</th>\n",
              "      <th>TechSupport</th>\n",
              "      <th>StreamingTV</th>\n",
              "      <th>StreamingMovies</th>\n",
              "      <th>Contract</th>\n",
              "      <th>PaperlessBilling</th>\n",
              "      <th>PaymentMethod</th>\n",
              "      <th>MonthlyCharges</th>\n",
              "      <th>TotalCharges</th>\n",
              "    </tr>\n",
              "  </thead>\n",
              "  <tbody>\n",
              "    <tr>\n",
              "      <th>0</th>\n",
              "      <td>No</td>\n",
              "      <td>4223-BKEOR</td>\n",
              "      <td>Female</td>\n",
              "      <td>0</td>\n",
              "      <td>No</td>\n",
              "      <td>Yes</td>\n",
              "      <td>21</td>\n",
              "      <td>Yes</td>\n",
              "      <td>No</td>\n",
              "      <td>DSL</td>\n",
              "      <td>Yes</td>\n",
              "      <td>No</td>\n",
              "      <td>Yes</td>\n",
              "      <td>No</td>\n",
              "      <td>No</td>\n",
              "      <td>Yes</td>\n",
              "      <td>One year</td>\n",
              "      <td>No</td>\n",
              "      <td>Mailed check</td>\n",
              "      <td>64.85</td>\n",
              "      <td>1336.8</td>\n",
              "    </tr>\n",
              "    <tr>\n",
              "      <th>1</th>\n",
              "      <td>No</td>\n",
              "      <td>6035-RIIOM</td>\n",
              "      <td>Female</td>\n",
              "      <td>0</td>\n",
              "      <td>No</td>\n",
              "      <td>No</td>\n",
              "      <td>54</td>\n",
              "      <td>Yes</td>\n",
              "      <td>Yes</td>\n",
              "      <td>Fiber optic</td>\n",
              "      <td>No</td>\n",
              "      <td>Yes</td>\n",
              "      <td>No</td>\n",
              "      <td>No</td>\n",
              "      <td>Yes</td>\n",
              "      <td>Yes</td>\n",
              "      <td>Two year</td>\n",
              "      <td>Yes</td>\n",
              "      <td>Bank transfer (automatic)</td>\n",
              "      <td>97.20</td>\n",
              "      <td>5129.45</td>\n",
              "    </tr>\n",
              "    <tr>\n",
              "      <th>2</th>\n",
              "      <td>Yes</td>\n",
              "      <td>3797-VTIDR</td>\n",
              "      <td>Male</td>\n",
              "      <td>0</td>\n",
              "      <td>Yes</td>\n",
              "      <td>No</td>\n",
              "      <td>1</td>\n",
              "      <td>No</td>\n",
              "      <td>No phone service</td>\n",
              "      <td>DSL</td>\n",
              "      <td>No</td>\n",
              "      <td>No</td>\n",
              "      <td>No</td>\n",
              "      <td>No</td>\n",
              "      <td>No</td>\n",
              "      <td>No</td>\n",
              "      <td>Month-to-month</td>\n",
              "      <td>Yes</td>\n",
              "      <td>Electronic check</td>\n",
              "      <td>23.45</td>\n",
              "      <td>23.45</td>\n",
              "    </tr>\n",
              "    <tr>\n",
              "      <th>3</th>\n",
              "      <td>Yes</td>\n",
              "      <td>2568-BRGYX</td>\n",
              "      <td>Male</td>\n",
              "      <td>0</td>\n",
              "      <td>No</td>\n",
              "      <td>No</td>\n",
              "      <td>4</td>\n",
              "      <td>Yes</td>\n",
              "      <td>No</td>\n",
              "      <td>Fiber optic</td>\n",
              "      <td>No</td>\n",
              "      <td>No</td>\n",
              "      <td>No</td>\n",
              "      <td>No</td>\n",
              "      <td>No</td>\n",
              "      <td>No</td>\n",
              "      <td>Month-to-month</td>\n",
              "      <td>Yes</td>\n",
              "      <td>Electronic check</td>\n",
              "      <td>70.20</td>\n",
              "      <td>237.95</td>\n",
              "    </tr>\n",
              "    <tr>\n",
              "      <th>4</th>\n",
              "      <td>No</td>\n",
              "      <td>2775-SEFEE</td>\n",
              "      <td>Male</td>\n",
              "      <td>0</td>\n",
              "      <td>No</td>\n",
              "      <td>Yes</td>\n",
              "      <td>0</td>\n",
              "      <td>Yes</td>\n",
              "      <td>Yes</td>\n",
              "      <td>DSL</td>\n",
              "      <td>Yes</td>\n",
              "      <td>Yes</td>\n",
              "      <td>No</td>\n",
              "      <td>Yes</td>\n",
              "      <td>No</td>\n",
              "      <td>No</td>\n",
              "      <td>Two year</td>\n",
              "      <td>Yes</td>\n",
              "      <td>Bank transfer (automatic)</td>\n",
              "      <td>61.90</td>\n",
              "      <td></td>\n",
              "    </tr>\n",
              "  </tbody>\n",
              "</table>\n",
              "</div>"
            ],
            "text/plain": [
              "  Churn  customerID  ... MonthlyCharges  TotalCharges\n",
              "0    No  4223-BKEOR  ...          64.85        1336.8\n",
              "1    No  6035-RIIOM  ...          97.20       5129.45\n",
              "2   Yes  3797-VTIDR  ...          23.45         23.45\n",
              "3   Yes  2568-BRGYX  ...          70.20        237.95\n",
              "4    No  2775-SEFEE  ...          61.90              \n",
              "\n",
              "[5 rows x 21 columns]"
            ]
          },
          "metadata": {
            "tags": []
          },
          "execution_count": 15
        }
      ]
    },
    {
      "cell_type": "markdown",
      "metadata": {
        "id": "ITluPcM6wEhO",
        "colab_type": "text"
      },
      "source": [
        "conversione degli elementi presenti in tabella in interi "
      ]
    },
    {
      "cell_type": "code",
      "metadata": {
        "id": "OQfgYuLDwULP",
        "colab_type": "code",
        "colab": {
          "base_uri": "https://localhost:8080/",
          "height": 215
        },
        "outputId": "47f64439-0497-4296-df5c-afb3b086275b"
      },
      "source": [
        "#tutte le colonne che contengono stringhe devono essere trasformate in colonne che contengono interi \n",
        "for elemento in df:\n",
        " \n",
        "  df[elemento] = pd.Categorical(df[elemento])\n",
        "  df[elemento] = getattr(df, elemento).cat.codes\n",
        "  if elemento==\"MonthlyCharges\" or elemento==\"TotalCharges\" or elemento==\"tenure\":\n",
        "   df[elemento] = df[elemento].astype('float')\n",
        "  else:\n",
        "   df[elemento] = (pd.Categorical(df[elemento])).codes.astype('float')\n",
        "# mostro il dataset dopo l'operazione\n",
        "df.head()\n"
      ],
      "execution_count": 16,
      "outputs": [
        {
          "output_type": "execute_result",
          "data": {
            "text/html": [
              "<div>\n",
              "<style scoped>\n",
              "    .dataframe tbody tr th:only-of-type {\n",
              "        vertical-align: middle;\n",
              "    }\n",
              "\n",
              "    .dataframe tbody tr th {\n",
              "        vertical-align: top;\n",
              "    }\n",
              "\n",
              "    .dataframe thead th {\n",
              "        text-align: right;\n",
              "    }\n",
              "</style>\n",
              "<table border=\"1\" class=\"dataframe\">\n",
              "  <thead>\n",
              "    <tr style=\"text-align: right;\">\n",
              "      <th></th>\n",
              "      <th>Churn</th>\n",
              "      <th>customerID</th>\n",
              "      <th>gender</th>\n",
              "      <th>SeniorCitizen</th>\n",
              "      <th>Partner</th>\n",
              "      <th>Dependents</th>\n",
              "      <th>tenure</th>\n",
              "      <th>PhoneService</th>\n",
              "      <th>MultipleLines</th>\n",
              "      <th>InternetService</th>\n",
              "      <th>OnlineSecurity</th>\n",
              "      <th>OnlineBackup</th>\n",
              "      <th>DeviceProtection</th>\n",
              "      <th>TechSupport</th>\n",
              "      <th>StreamingTV</th>\n",
              "      <th>StreamingMovies</th>\n",
              "      <th>Contract</th>\n",
              "      <th>PaperlessBilling</th>\n",
              "      <th>PaymentMethod</th>\n",
              "      <th>MonthlyCharges</th>\n",
              "      <th>TotalCharges</th>\n",
              "    </tr>\n",
              "  </thead>\n",
              "  <tbody>\n",
              "    <tr>\n",
              "      <th>0</th>\n",
              "      <td>0.0</td>\n",
              "      <td>2370.0</td>\n",
              "      <td>0.0</td>\n",
              "      <td>0.0</td>\n",
              "      <td>0.0</td>\n",
              "      <td>1.0</td>\n",
              "      <td>21.0</td>\n",
              "      <td>1.0</td>\n",
              "      <td>0.0</td>\n",
              "      <td>0.0</td>\n",
              "      <td>2.0</td>\n",
              "      <td>0.0</td>\n",
              "      <td>2.0</td>\n",
              "      <td>0.0</td>\n",
              "      <td>0.0</td>\n",
              "      <td>2.0</td>\n",
              "      <td>1.0</td>\n",
              "      <td>0.0</td>\n",
              "      <td>3.0</td>\n",
              "      <td>586.0</td>\n",
              "      <td>492.0</td>\n",
              "    </tr>\n",
              "    <tr>\n",
              "      <th>1</th>\n",
              "      <td>0.0</td>\n",
              "      <td>3457.0</td>\n",
              "      <td>0.0</td>\n",
              "      <td>0.0</td>\n",
              "      <td>0.0</td>\n",
              "      <td>0.0</td>\n",
              "      <td>54.0</td>\n",
              "      <td>1.0</td>\n",
              "      <td>2.0</td>\n",
              "      <td>1.0</td>\n",
              "      <td>0.0</td>\n",
              "      <td>2.0</td>\n",
              "      <td>0.0</td>\n",
              "      <td>0.0</td>\n",
              "      <td>2.0</td>\n",
              "      <td>2.0</td>\n",
              "      <td>2.0</td>\n",
              "      <td>1.0</td>\n",
              "      <td>0.0</td>\n",
              "      <td>1170.0</td>\n",
              "      <td>3511.0</td>\n",
              "    </tr>\n",
              "    <tr>\n",
              "      <th>2</th>\n",
              "      <td>1.0</td>\n",
              "      <td>2149.0</td>\n",
              "      <td>1.0</td>\n",
              "      <td>0.0</td>\n",
              "      <td>1.0</td>\n",
              "      <td>0.0</td>\n",
              "      <td>1.0</td>\n",
              "      <td>0.0</td>\n",
              "      <td>1.0</td>\n",
              "      <td>0.0</td>\n",
              "      <td>0.0</td>\n",
              "      <td>0.0</td>\n",
              "      <td>0.0</td>\n",
              "      <td>0.0</td>\n",
              "      <td>0.0</td>\n",
              "      <td>0.0</td>\n",
              "      <td>0.0</td>\n",
              "      <td>1.0</td>\n",
              "      <td>2.0</td>\n",
              "      <td>59.0</td>\n",
              "      <td>1566.0</td>\n",
              "    </tr>\n",
              "    <tr>\n",
              "      <th>3</th>\n",
              "      <td>1.0</td>\n",
              "      <td>1426.0</td>\n",
              "      <td>1.0</td>\n",
              "      <td>0.0</td>\n",
              "      <td>0.0</td>\n",
              "      <td>0.0</td>\n",
              "      <td>4.0</td>\n",
              "      <td>1.0</td>\n",
              "      <td>0.0</td>\n",
              "      <td>1.0</td>\n",
              "      <td>0.0</td>\n",
              "      <td>0.0</td>\n",
              "      <td>0.0</td>\n",
              "      <td>0.0</td>\n",
              "      <td>0.0</td>\n",
              "      <td>0.0</td>\n",
              "      <td>0.0</td>\n",
              "      <td>1.0</td>\n",
              "      <td>2.0</td>\n",
              "      <td>674.0</td>\n",
              "      <td>1627.0</td>\n",
              "    </tr>\n",
              "    <tr>\n",
              "      <th>4</th>\n",
              "      <td>0.0</td>\n",
              "      <td>1545.0</td>\n",
              "      <td>1.0</td>\n",
              "      <td>0.0</td>\n",
              "      <td>0.0</td>\n",
              "      <td>1.0</td>\n",
              "      <td>0.0</td>\n",
              "      <td>1.0</td>\n",
              "      <td>2.0</td>\n",
              "      <td>0.0</td>\n",
              "      <td>2.0</td>\n",
              "      <td>2.0</td>\n",
              "      <td>0.0</td>\n",
              "      <td>2.0</td>\n",
              "      <td>0.0</td>\n",
              "      <td>0.0</td>\n",
              "      <td>2.0</td>\n",
              "      <td>1.0</td>\n",
              "      <td>0.0</td>\n",
              "      <td>546.0</td>\n",
              "      <td>0.0</td>\n",
              "    </tr>\n",
              "  </tbody>\n",
              "</table>\n",
              "</div>"
            ],
            "text/plain": [
              "   Churn  customerID  gender  ...  PaymentMethod  MonthlyCharges  TotalCharges\n",
              "0    0.0      2370.0     0.0  ...            3.0           586.0         492.0\n",
              "1    0.0      3457.0     0.0  ...            0.0          1170.0        3511.0\n",
              "2    1.0      2149.0     1.0  ...            2.0            59.0        1566.0\n",
              "3    1.0      1426.0     1.0  ...            2.0           674.0        1627.0\n",
              "4    0.0      1545.0     1.0  ...            0.0           546.0           0.0\n",
              "\n",
              "[5 rows x 21 columns]"
            ]
          },
          "metadata": {
            "tags": []
          },
          "execution_count": 16
        }
      ]
    },
    {
      "cell_type": "markdown",
      "metadata": {
        "id": "N1jcWjOLwacn",
        "colab_type": "text"
      },
      "source": [
        "preparazione del modello della rete"
      ]
    },
    {
      "cell_type": "code",
      "metadata": {
        "id": "tWPD9DjOxay-",
        "colab_type": "code",
        "colab": {}
      },
      "source": [
        "#costruisco il modello\n",
        "def get_compiled_model():\n",
        "  model = tf.keras.Sequential([\n",
        "    tf.keras.layers.Dense(10, activation='relu'),\n",
        "    tf.keras.layers.Dense(10, activation='relu'),\n",
        "    tf.keras.layers.Dense(1)\n",
        "  ])\n",
        "\n",
        "  model.compile(optimizer='adam',\n",
        "                loss=tf.keras.losses.BinaryCrossentropy(from_logits=True),\n",
        "                metrics=['accuracy'])\n",
        "  return model\n",
        "\n",
        "model = get_compiled_model()\n",
        "#preparo il dataset\n",
        "train, test = train_test_split(df, test_size=0.1)\n",
        "train, val = train_test_split(train, test_size=0.1)"
      ],
      "execution_count": 18,
      "outputs": []
    },
    {
      "cell_type": "markdown",
      "metadata": {
        "id": "1od8M_h6xgxf",
        "colab_type": "text"
      },
      "source": [
        "addestramento"
      ]
    },
    {
      "cell_type": "code",
      "metadata": {
        "id": "KfU2jD78xj8Z",
        "colab_type": "code",
        "colab": {
          "base_uri": "https://localhost:8080/",
          "height": 1000
        },
        "outputId": "83b746da-1ee6-4633-d048-6d6f75865a04"
      },
      "source": [
        "# Creazione  del training\n",
        "train_target = train.pop(target_label)\n",
        "train_dataset = (tf.data.Dataset.from_tensor_slices((train.values, train_target.values))).shuffle(len(train)).batch(1)\n",
        "#addestramento e impostazione epoche\n",
        "model.fit(train_dataset, epochs=30)"
      ],
      "execution_count": 19,
      "outputs": [
        {
          "output_type": "stream",
          "text": [
            "Epoch 1/30\n",
            "WARNING:tensorflow:Layer dense_12 is casting an input tensor from dtype float64 to the layer's dtype of float32, which is new behavior in TensorFlow 2.  The layer has dtype float32 because it's dtype defaults to floatx.\n",
            "\n",
            "If you intended to run this layer in float32, you can safely ignore this warning. If in doubt, this warning is likely only an issue if you are porting a TensorFlow 1.X model to TensorFlow 2.\n",
            "\n",
            "To change all layers to have dtype float64 by default, call `tf.keras.backend.set_floatx('float64')`. To change just this layer, pass dtype='float64' to the layer constructor. If you are the author of this layer, you can disable autocasting by passing autocast=False to the base Layer constructor.\n",
            "\n",
            "4563/4563 [==============================] - 5s 1ms/step - loss: 16.9615 - accuracy: 0.6603\n",
            "Epoch 2/30\n",
            "4563/4563 [==============================] - 5s 1ms/step - loss: 2.5090 - accuracy: 0.7015\n",
            "Epoch 3/30\n",
            "4563/4563 [==============================] - 5s 1ms/step - loss: 1.3632 - accuracy: 0.7278\n",
            "Epoch 4/30\n",
            "4563/4563 [==============================] - 5s 1ms/step - loss: 1.1996 - accuracy: 0.7197\n",
            "Epoch 5/30\n",
            "4563/4563 [==============================] - 5s 1ms/step - loss: 0.9226 - accuracy: 0.7401\n",
            "Epoch 6/30\n",
            "4563/4563 [==============================] - 5s 1ms/step - loss: 0.8395 - accuracy: 0.7418\n",
            "Epoch 7/30\n",
            "4563/4563 [==============================] - 5s 1ms/step - loss: 0.6615 - accuracy: 0.7414\n",
            "Epoch 8/30\n",
            "4563/4563 [==============================] - 5s 1ms/step - loss: 0.5753 - accuracy: 0.7576\n",
            "Epoch 9/30\n",
            "4563/4563 [==============================] - 5s 1ms/step - loss: 0.5243 - accuracy: 0.7572\n",
            "Epoch 10/30\n",
            "4563/4563 [==============================] - 5s 1ms/step - loss: 0.4951 - accuracy: 0.7528\n",
            "Epoch 11/30\n",
            "4563/4563 [==============================] - 5s 1ms/step - loss: 0.4957 - accuracy: 0.7416\n",
            "Epoch 12/30\n",
            "4563/4563 [==============================] - 5s 1ms/step - loss: 0.4912 - accuracy: 0.7449\n",
            "Epoch 13/30\n",
            "4563/4563 [==============================] - 5s 1ms/step - loss: 0.4925 - accuracy: 0.7329\n",
            "Epoch 14/30\n",
            "4563/4563 [==============================] - 6s 1ms/step - loss: 0.4816 - accuracy: 0.7329\n",
            "Epoch 15/30\n",
            "4563/4563 [==============================] - 6s 1ms/step - loss: 0.4852 - accuracy: 0.7329\n",
            "Epoch 16/30\n",
            "4563/4563 [==============================] - 5s 1ms/step - loss: 0.4760 - accuracy: 0.7329\n",
            "Epoch 17/30\n",
            "4563/4563 [==============================] - 5s 1ms/step - loss: 0.4803 - accuracy: 0.7329\n",
            "Epoch 18/30\n",
            "4563/4563 [==============================] - 6s 1ms/step - loss: 0.4766 - accuracy: 0.7329\n",
            "Epoch 19/30\n",
            "4563/4563 [==============================] - 5s 1ms/step - loss: 0.4744 - accuracy: 0.7329\n",
            "Epoch 20/30\n",
            "4563/4563 [==============================] - 5s 1ms/step - loss: 0.4707 - accuracy: 0.7329\n",
            "Epoch 21/30\n",
            "4563/4563 [==============================] - 5s 1ms/step - loss: 0.4720 - accuracy: 0.7329\n",
            "Epoch 22/30\n",
            "4563/4563 [==============================] - 5s 1ms/step - loss: 0.4723 - accuracy: 0.7329\n",
            "Epoch 23/30\n",
            "4563/4563 [==============================] - 5s 1ms/step - loss: 0.4673 - accuracy: 0.7329\n",
            "Epoch 24/30\n",
            "4563/4563 [==============================] - 5s 1ms/step - loss: 0.4761 - accuracy: 0.7329\n",
            "Epoch 25/30\n",
            "4563/4563 [==============================] - 5s 1ms/step - loss: 0.4664 - accuracy: 0.7329\n",
            "Epoch 26/30\n",
            "4563/4563 [==============================] - 5s 1ms/step - loss: 0.5049 - accuracy: 0.7318\n",
            "Epoch 27/30\n",
            "4563/4563 [==============================] - 5s 1ms/step - loss: 0.4666 - accuracy: 0.7329\n",
            "Epoch 28/30\n",
            "4563/4563 [==============================] - 5s 1ms/step - loss: 0.4630 - accuracy: 0.7329\n",
            "Epoch 29/30\n",
            "4563/4563 [==============================] - 5s 1ms/step - loss: 0.4630 - accuracy: 0.7329\n",
            "Epoch 30/30\n",
            "4563/4563 [==============================] - 5s 1ms/step - loss: 0.4626 - accuracy: 0.7329\n"
          ],
          "name": "stdout"
        },
        {
          "output_type": "execute_result",
          "data": {
            "text/plain": [
              "<tensorflow.python.keras.callbacks.History at 0x7f3869483eb8>"
            ]
          },
          "metadata": {
            "tags": []
          },
          "execution_count": 19
        }
      ]
    },
    {
      "cell_type": "markdown",
      "metadata": {
        "id": "sqIop2pxzqBm",
        "colab_type": "text"
      },
      "source": [
        "test"
      ]
    },
    {
      "cell_type": "code",
      "metadata": {
        "id": "v7DjbqAVzvAT",
        "colab_type": "code",
        "colab": {
          "base_uri": "https://localhost:8080/",
          "height": 84
        },
        "outputId": "e9b20be7-6b85-4a65-c564-72d84f85d7f7"
      },
      "source": [
        "# Creazione del  test \n",
        "test_target = test.pop(target_label)\n",
        "test_dataset = (tf.data.Dataset.from_tensor_slices((test.values, test_target.values))).shuffle(len(test)).batch(1)\n",
        "\n",
        "# Fase di test\n",
        "test_loss, test_accuracy = model.evaluate(test_dataset)\n",
        "print('\\n\\nTest Loss {}, Test Accuracy {}'.format(test_loss, test_accuracy))"
      ],
      "execution_count": 20,
      "outputs": [
        {
          "output_type": "stream",
          "text": [
            "564/564 [==============================] - 1s 909us/step - loss: 0.4407 - accuracy: 0.7465\n",
            "\n",
            "\n",
            "Test Loss 0.4407014548778534, Test Accuracy 0.7464538812637329\n"
          ],
          "name": "stdout"
        }
      ]
    },
    {
      "cell_type": "markdown",
      "metadata": {
        "id": "VXJiZuHvz5ck",
        "colab_type": "text"
      },
      "source": [
        "validazione"
      ]
    },
    {
      "cell_type": "code",
      "metadata": {
        "id": "g0ZXNmymz4fe",
        "colab_type": "code",
        "colab": {
          "base_uri": "https://localhost:8080/",
          "height": 185
        },
        "outputId": "8a5ffc8d-5091-4f7c-d1b4-991db57799cf"
      },
      "source": [
        "#valutazione\n",
        "val_target = val.pop(target_label)\n",
        "\n",
        "val_dataset = (tf.data.Dataset.from_tensor_slices(val.values)).batch(1)\n",
        "\n",
        "# Fase di valutazione\n",
        "predictions = model.predict(val_dataset)\n",
        "\n",
        "\n",
        "# Show some results \n",
        "for prediction, yes in zip(predictions[:10], list(val_target)[:10]):\n",
        "  prediction = tf.sigmoid(prediction).numpy()\n",
        "  print(\"Predicted yes: {:.2%}\".format(prediction[0]),\n",
        "        \" | Actual outcome: \",\n",
        "        (\"yes\" if bool(yes) else \"no\"))\n"
      ],
      "execution_count": 21,
      "outputs": [
        {
          "output_type": "stream",
          "text": [
            "Predicted yes: 1.62%  | Actual outcome:  no\n",
            "Predicted yes: 56.65%  | Actual outcome:  yes\n",
            "Predicted yes: 4.45%  | Actual outcome:  no\n",
            "Predicted yes: 13.82%  | Actual outcome:  no\n",
            "Predicted yes: 8.74%  | Actual outcome:  no\n",
            "Predicted yes: 11.03%  | Actual outcome:  no\n",
            "Predicted yes: 3.23%  | Actual outcome:  no\n",
            "Predicted yes: 14.55%  | Actual outcome:  no\n",
            "Predicted yes: 22.02%  | Actual outcome:  no\n",
            "Predicted yes: 38.64%  | Actual outcome:  no\n"
          ],
          "name": "stdout"
        }
      ]
    }
  ]
}